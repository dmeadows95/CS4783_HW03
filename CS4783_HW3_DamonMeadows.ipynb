{
  "nbformat": 4,
  "nbformat_minor": 0,
  "metadata": {
    "colab": {
      "provenance": [],
      "mount_file_id": "1M55XzGxly0BtRIDbng5cgNW_rukNZl7l",
      "authorship_tag": "ABX9TyPOmUoDx0VcKRc/qyENnMF9",
      "include_colab_link": true
    },
    "kernelspec": {
      "name": "python3",
      "display_name": "Python 3"
    },
    "language_info": {
      "name": "python"
    },
    "gpuClass": "standard",
    "accelerator": "GPU"
  },
  "cells": [
    {
      "cell_type": "markdown",
      "metadata": {
        "id": "view-in-github",
        "colab_type": "text"
      },
      "source": [
        "<a href=\"https://colab.research.google.com/github/dmeadows95/CS4783_HW03/blob/main/CS4783_HW3_DamonMeadows.ipynb\" target=\"_parent\"><img src=\"https://colab.research.google.com/assets/colab-badge.svg\" alt=\"Open In Colab\"/></a>"
      ]
    },
    {
      "cell_type": "code",
      "source": [
        "# Load the TensorBoard notebook extension.\n",
        "%load_ext tensorboard\n",
        "\n",
        "from datetime import datetime\n",
        "from packaging import version\n",
        "\n",
        "import tensorflow as tf\n",
        "from tensorflow import keras\n",
        "from keras.utils import to_categorical\n",
        "from keras.models import Sequential\n",
        "from keras.layers import Dense, Conv2D, Flatten, MaxPooling2D\n",
        "\n",
        "import tensorboard\n",
        "import matplotlib.pyplot as plt\n",
        "\n",
        "import numpy as np"
      ],
      "metadata": {
        "id": "2toKruOD9Vn3"
      },
      "execution_count": null,
      "outputs": []
    },
    {
      "cell_type": "code",
      "source": [
        "# import data\n",
        "(train_images, train_labels), (test_images, test_labels) = keras.datasets.mnist.load_data()\n",
        "train_images = train_images / 255.0\n",
        "\n",
        "# reshape data\n",
        "train_images = train_images.reshape(60000,28,28,1)\n",
        "test_images = test_images.reshape(10000,28,28,1)\n",
        "\n",
        "# one-hot encode data\n",
        "train_labels = to_categorical(train_labels)\n",
        "test_labels = to_categorical(test_labels)"
      ],
      "metadata": {
        "id": "E2YYRAoy9Z5W"
      },
      "execution_count": null,
      "outputs": []
    },
    {
      "cell_type": "code",
      "source": [
        "# create model 1\n",
        "# model 1 => number of filters increases each layer\n",
        "model_1 = Sequential()\n",
        "# add model layers\n",
        "model_1.add(Conv2D(4, kernel_size=3, activation='relu', input_shape=(28,28,1)))\n",
        "model_1.add(Conv2D(8, kernel_size=3, activation='relu'))\n",
        "model_1.add(Conv2D(16, kernel_size=3, activation='relu'))\n",
        "model_1.add(Conv2D(32, kernel_size=3, activation='relu'))\n",
        "model_1.add(Conv2D(64, kernel_size=3, activation='relu'))\n",
        "model_1.add(Conv2D(128, kernel_size=3, activation='relu'))\n",
        "model_1.add(Conv2D(256, kernel_size=3, activation='relu'))\n",
        "model_1.add(Conv2D(512, kernel_size=3, activation='relu'))\n",
        "model_1.add(Conv2D(1024, kernel_size=3, activation='relu'))\n",
        "model_1.add(Conv2D(2048, kernel_size=3, activation='relu'))\n",
        "\n",
        "model_1.add(Flatten())\n",
        "model_1.add(Dense(10, activation='softmax'))"
      ],
      "metadata": {
        "id": "6jwIO5ss-3Ql"
      },
      "execution_count": null,
      "outputs": []
    },
    {
      "cell_type": "code",
      "source": [
        "from keras import backend as K\n",
        "\n",
        "optimizer = keras.optimizers.Adam(lr=.0001)\n",
        "\n",
        "# compile model using accuracy to measure model performance\n",
        "model_1.compile(\n",
        "      optimizer=optimizer, \n",
        "      loss='categorical_crossentropy',\n",
        "      metrics=['accuracy'])\n",
        "\n",
        "model_1.summary()"
      ],
      "metadata": {
        "colab": {
          "base_uri": "https://localhost:8080/"
        },
        "id": "EVCSVfp4_oEG",
        "outputId": "33951234-a16c-4e8f-ee49-baba7c9bd9c4"
      },
      "execution_count": null,
      "outputs": [
        {
          "output_type": "stream",
          "name": "stdout",
          "text": [
            "Model: \"sequential_5\"\n",
            "_________________________________________________________________\n",
            " Layer (type)                Output Shape              Param #   \n",
            "=================================================================\n",
            " conv2d_50 (Conv2D)          (None, 26, 26, 4)         40        \n",
            "                                                                 \n",
            " conv2d_51 (Conv2D)          (None, 24, 24, 8)         296       \n",
            "                                                                 \n",
            " conv2d_52 (Conv2D)          (None, 22, 22, 16)        1168      \n",
            "                                                                 \n",
            " conv2d_53 (Conv2D)          (None, 20, 20, 32)        4640      \n",
            "                                                                 \n",
            " conv2d_54 (Conv2D)          (None, 18, 18, 64)        18496     \n",
            "                                                                 \n",
            " conv2d_55 (Conv2D)          (None, 16, 16, 128)       73856     \n",
            "                                                                 \n",
            " conv2d_56 (Conv2D)          (None, 14, 14, 256)       295168    \n",
            "                                                                 \n",
            " conv2d_57 (Conv2D)          (None, 12, 12, 512)       1180160   \n",
            "                                                                 \n",
            " conv2d_58 (Conv2D)          (None, 10, 10, 1024)      4719616   \n",
            "                                                                 \n",
            " conv2d_59 (Conv2D)          (None, 8, 8, 2048)        18876416  \n",
            "                                                                 \n",
            " flatten_5 (Flatten)         (None, 131072)            0         \n",
            "                                                                 \n",
            " dense_5 (Dense)             (None, 10)                1310730   \n",
            "                                                                 \n",
            "=================================================================\n",
            "Total params: 26,480,586\n",
            "Trainable params: 26,480,586\n",
            "Non-trainable params: 0\n",
            "_________________________________________________________________\n"
          ]
        }
      ]
    },
    {
      "cell_type": "code",
      "source": [
        "# fit model_1\n",
        "model_1.fit(\n",
        "    train_images, \n",
        "    train_labels, \n",
        "    batch_size = 32,\n",
        "    validation_data=(test_images, test_labels), epochs=3)"
      ],
      "metadata": {
        "colab": {
          "base_uri": "https://localhost:8080/"
        },
        "id": "WKJHGHXD_tFU",
        "outputId": "eef3511a-4891-44fb-a94e-e7f4c3572626"
      },
      "execution_count": null,
      "outputs": [
        {
          "output_type": "stream",
          "name": "stdout",
          "text": [
            "Epoch 1/3\n",
            "1875/1875 [==============================] - 149s 79ms/step - loss: 0.2059 - accuracy: 0.9356 - val_loss: 10.9804 - val_accuracy: 0.9736\n",
            "Epoch 2/3\n",
            "1875/1875 [==============================] - 146s 78ms/step - loss: 0.0682 - accuracy: 0.9791 - val_loss: 7.6123 - val_accuracy: 0.9782\n",
            "Epoch 3/3\n",
            "1875/1875 [==============================] - 142s 76ms/step - loss: 0.0497 - accuracy: 0.9847 - val_loss: 6.4405 - val_accuracy: 0.9805\n"
          ]
        },
        {
          "output_type": "execute_result",
          "data": {
            "text/plain": [
              "<keras.callbacks.History at 0x7fac8676c7d0>"
            ]
          },
          "metadata": {},
          "execution_count": 21
        }
      ]
    },
    {
      "cell_type": "code",
      "source": [
        "# Evaluate\n",
        "score = model_1.evaluate(test_images, test_labels)\n",
        "print('Test loss:', score[0])\n",
        "print('Test accuracy:', score[1])"
      ],
      "metadata": {
        "colab": {
          "base_uri": "https://localhost:8080/"
        },
        "id": "LDLun_rNUo4b",
        "outputId": "df791f6a-cc23-4a6c-fefe-bee8ef2006a4"
      },
      "execution_count": null,
      "outputs": [
        {
          "output_type": "stream",
          "name": "stdout",
          "text": [
            "313/313 [==============================] - 7s 21ms/step - loss: 3.1540 - accuracy: 0.1011\n",
            "Test loss: 3.1539838314056396\n",
            "Test accuracy: 0.10109999775886536\n"
          ]
        }
      ]
    },
    {
      "cell_type": "markdown",
      "source": [
        "Model 1 Evaluation Notes:<br><br>\n",
        "Batch Size Trials (SGD, alpha = .01, categorical cross entropy, epcochs =3):<br><br>\n",
        "Batch size = 8:<br>\n",
        "trial 1: time = 1100s; accuracy = 98.55%<br>\n",
        "trial 2: time = 1082s; accuracy = 98.43%<br>\n",
        "trial 3: time = 1095s; accuracy = 98.32%<br>\n",
        "trial 4: time = 1082s; accuracy = 98.82%<br>\n",
        "trial 5: time = 1089s; accuracy = 98.66%<br>\n",
        "average time =1089.6s; average accuracy = 98.556%<br><br>\n",
        "Batch size = 16:<br>\n",
        "trial 1: time = 600s; accuracy = 98.53%<br>\n",
        "trial 2: time = 606s; accuracy = 98.48%<br>\n",
        "trial 3: time = 604s; accuracy = 98.38%<br>\n",
        "trial 4: time = 609s; accuracy = 98.44%<br>\n",
        "trial 5: time = 606s; accuracy = 98.56%<br>\n",
        "average time = 605s; average accuracy = 98.478%<br>\n",
        "Batch size = 32:<br>\n",
        "trial 1: time = 407s; accuracy = 98.35%<br>\n",
        "trial 2: time = 410s; accuracy = 98.26%<br>\n",
        "trial 3: time = 407s; accuracy = 98.26%<br>\n",
        "trial 4: time = 411s; accuracy = 98.08%<br>\n",
        "trial 5: time = 407s; accuracy = 97.82%<br>\n",
        "average time = 408.4s; average accuracy = 98.154%<br>\n",
        "Batch size = 64:<br>\n",
        "trial 1: time = 307s; accuracy = 96.60%<br>\n",
        "trial 2: time = 306s; accuracy = 97.21%<br>\n",
        "trial 3: time = 305s; accuracy = 98.06%<br>\n",
        "trial 4: time = 305s; accuracy = 96.88%<br>\n",
        "trial 5: time = 306s; accuracy = 92.27%<br>\n",
        "average time = 305.8s; average accuracy = 96.204%<br>\n",
        "Batch size = 128:<br>\n",
        "trial 1: time = 269s; accuracy = 94.65%<br>\n",
        "trial 2: time = 260s; accuracy = 96.99%<br>\n",
        "trial 3: time = 262s; accuracy = 96.34%<br>\n",
        "trial 4: time = 259s; accuracy = 97.48%<br>\n",
        "trial 5: time = 259s; accuracy = 96.60%<br>\n",
        "average time = 261.8s; average accuracy = 96.412%<br><br>\n",
        "\n",
        "Optimizer trial (batch size = 128, alpha = default per optimizer unless specified, loss=categorical cross entropy, epochs=3):<br><br>\n",
        "\n",
        "Optimizer = adam:<br>\n",
        "trial 1: time = 247s; accuracy = 96.52%<br>\n",
        "trial 2: time = 249s; accuracy = 98.00%<br>\n",
        "trial 3: time = 252s; accuracy = 89.98%<br>\n",
        "trial 4: time = 287s; accuracy = 95.91%<br>\n",
        "trial 5: time = 263s; accuracy = 94.71%<br>\n",
        "average time = 259.6s; average test accuracy = 95.024%<br>\n",
        "Optimizer = adam, alpha = .01:<br>\n",
        "trial 1: time = 249s; training accuracy = 11.14%; test accuracy = 12.15%<br>\n",
        "Optimizer = adam, alpha = .0001:<br>\n",
        "trial 1: time = 288s; training accuracy = 98.23%; test accuracy = 98.28%<br>\n",
        "trial 2: time = 288s; training accuracy = 98.26%; test accuracy = 98.54%<br>\n",
        "trial 3: time = 289s; training accuracy = 97.74%; test accuracy = 95.42%<br>\n",
        "trial 4: time = 287s; training accuracy = 98.05%; test accuracy = 97.55%<br>\n",
        "trial 5: time = 288s; training accuracy = 98.13%; test accuracy = 98.28%<br>\n",
        "average time = 288s; average training accuracy = 98.082; average test accuracy = 97.614\n",
        "Optimizer = adam, alpha = .00001:<br>\n",
        "trial 1: time = 289s; training accuracy = 95.46%; test accuracy = 96.40%<br>\n",
        "trial 2: time = 301s; training accuracy = 94.93%; test accuracy = 94.59%<br>\n",
        "trial 3: time = 293s; training accuracy = 95.23%; test accuracy = 95.93%<br>\n",
        "Optimizer = adam, alpha = .0005:<br>\n",
        "trial 1: time = 281s; training accuracy = 98.49%; test accuracy = 97.15%<br>\n",
        "trial 2: time = 279s; training accuracy = 98.55%; test accuracy = 98.05%<br>\n",
        "trial 3: time = 281s; training accuracy = 98.40%; test accuracy = 95.42%<br>\n",
        "trial 4: time = 278s; training accuracy = 98.43%; test accuracy = 92.48%<br>\n",
        "trial 5: time = 277s; training accuracy = 98.42%; test accuracy = 98.07%<br>\n",
        "average time = 279.2s; average training accuracy = 98.458%; average test accuracy = 96.2276%<br>\n",
        "\n",
        "current best:\n",
        "optimizer = adam; alpha = .0001: average test accuracy = 97.614<br><br>\n",
        "\n",
        "Optimizer SGD, alpha = .001:<br>\n",
        "trial 1: time = 288s; training accuracy = 11.30%; test accuracy = 21.66%<br>\n",
        "Optimizer = SGD, alpha = .1:<br>\n",
        "trial 1: time = 285s; training accuracy = 97.86%; test accuracy = 93.61%<br>\n",
        "trial 2: time = 282s; training accuracy = 97.28%; test accuracy = 97.13%<br>\n",
        "trial 3: time = 271s; training accuracy = 11.24%; test accuracy = 10.11%<br><br>\n",
        "\n",
        "Potential Final:\n",
        "optimizer = adam; alpha = .0001; batch size = 32; loss = categorical cross entropy; epochs = 3:<br>\n",
        "trial 1: time = 433s; training accuracy = 98.50%; test accuracy = 97.70%<br>\n",
        "trial 2: time = 426s; training accuracy = 98.40%; test accuracy = 96.99%<br>\n",
        "trial 3: time = 437s; training accuracy = 98.31%; test accuracy = 98.35%<br>\n",
        "trial 4: time = 435%; training accuracy = 98.41%; test accuracy = 97.25%<br>\n",
        "trial 5: time = 437s; training accuracy = 98.47%; test accuracy = 98.05%<br>\n",
        "\n",
        "\n"
      ],
      "metadata": {
        "id": "AXYTpxGtbSSP"
      }
    },
    {
      "cell_type": "code",
      "source": [
        "# create model 2\n",
        "# model 2 => number of filters descreases each layer\n",
        "model_2 = Sequential()\n",
        "# add model layers\n",
        "model_2.add(Conv2D(4096, kernel_size=3, activation='relu', input_shape=(28,28,1)))\n",
        "model_2.add(Conv2D(2048, kernel_size=3, activation='relu'))\n",
        "model_2.add(Conv2D(1024, kernel_size=3, activation='relu'))\n",
        "model_2.add(Conv2D(512, kernel_size=3, activation='relu'))\n",
        "model_2.add(Conv2D(256, kernel_size=3, activation='relu'))\n",
        "model_2.add(Conv2D(128, kernel_size=3, activation='relu'))\n",
        "model_2.add(Conv2D(64, kernel_size=3, activation='relu'))\n",
        "model_2.add(Conv2D(32, kernel_size=3, activation='relu'))\n",
        "model_2.add(Conv2D(16, kernel_size=3, activation='relu'))\n",
        "model_2.add(Conv2D(8, kernel_size=3, activation='relu'))\n",
        "\n",
        "model_2.add(Flatten())\n",
        "model_2.add(Dense(10, activation='softmax'))"
      ],
      "metadata": {
        "id": "3mcHhh25EAl1"
      },
      "execution_count": null,
      "outputs": []
    },
    {
      "cell_type": "code",
      "source": [
        "optimizer = keras.optimizers.Adam(lr=.001)\n",
        "\n",
        "# compile model using accuracy to measure model performance\n",
        "model_2.compile(\n",
        "      optimizer=optimizer, \n",
        "      loss='categorical_crossentropy',\n",
        "      metrics=['accuracy'])\n",
        "\n",
        "model_2.summary()"
      ],
      "metadata": {
        "colab": {
          "base_uri": "https://localhost:8080/"
        },
        "id": "r4i0nhv9EUNm",
        "outputId": "2c34b1c1-0599-4d3d-cbbd-9fe339011946"
      },
      "execution_count": null,
      "outputs": [
        {
          "output_type": "stream",
          "name": "stdout",
          "text": [
            "Model: \"sequential_7\"\n",
            "_________________________________________________________________\n",
            " Layer (type)                Output Shape              Param #   \n",
            "=================================================================\n",
            " conv2d_70 (Conv2D)          (None, 26, 26, 4096)      40960     \n",
            "                                                                 \n",
            " conv2d_71 (Conv2D)          (None, 24, 24, 2048)      75499520  \n",
            "                                                                 \n",
            " conv2d_72 (Conv2D)          (None, 22, 22, 1024)      18875392  \n",
            "                                                                 \n",
            " conv2d_73 (Conv2D)          (None, 20, 20, 512)       4719104   \n",
            "                                                                 \n",
            " conv2d_74 (Conv2D)          (None, 18, 18, 256)       1179904   \n",
            "                                                                 \n",
            " conv2d_75 (Conv2D)          (None, 16, 16, 128)       295040    \n",
            "                                                                 \n",
            " conv2d_76 (Conv2D)          (None, 14, 14, 64)        73792     \n",
            "                                                                 \n",
            " conv2d_77 (Conv2D)          (None, 12, 12, 32)        18464     \n",
            "                                                                 \n",
            " conv2d_78 (Conv2D)          (None, 10, 10, 16)        4624      \n",
            "                                                                 \n",
            " conv2d_79 (Conv2D)          (None, 8, 8, 8)           1160      \n",
            "                                                                 \n",
            " flatten_7 (Flatten)         (None, 512)               0         \n",
            "                                                                 \n",
            " dense_7 (Dense)             (None, 10)                5130      \n",
            "                                                                 \n",
            "=================================================================\n",
            "Total params: 100,713,090\n",
            "Trainable params: 100,713,090\n",
            "Non-trainable params: 0\n",
            "_________________________________________________________________\n"
          ]
        }
      ]
    },
    {
      "cell_type": "code",
      "source": [
        "# fit model_2\n",
        "model_2.fit(\n",
        "    train_images, \n",
        "    train_labels, \n",
        "    batch_size = 256,\n",
        "    validation_data=(test_images, test_labels), epochs=3)"
      ],
      "metadata": {
        "id": "7pBb_Igsbag-",
        "colab": {
          "base_uri": "https://localhost:8080/"
        },
        "outputId": "0f67f2ff-af25-41d3-9840-25c630f856db"
      },
      "execution_count": null,
      "outputs": [
        {
          "output_type": "stream",
          "name": "stdout",
          "text": [
            "Epoch 1/3\n"
          ]
        }
      ]
    },
    {
      "cell_type": "markdown",
      "source": [
        "Model 2 Evaluation Notes:<br>\n",
        "\n",
        "Initial runs at default optimization values:<br>\n",
        "Adam, batch size = 256:<br>\n",
        "at batch size 128 the testing was still over an hour, at 256 the runtime broke and I had to restart.\n"
      ],
      "metadata": {
        "id": "RM6T8jgpbqCl"
      }
    },
    {
      "cell_type": "code",
      "source": [
        "# create model 3\n",
        "# model 3 => number of filters increases first 5 layers then decreases\n",
        "model_3 = Sequential()\n",
        "# add model layers\n",
        "model_3.add(Conv2D(32, kernel_size=3, activation='relu', input_shape=(28,28,1)))\n",
        "model_3.add(Conv2D(64, kernel_size=3, activation='relu'))\n",
        "model_3.add(Conv2D(128, kernel_size=3, activation='relu'))\n",
        "model_3.add(Conv2D(256, kernel_size=3, activation='relu'))\n",
        "model_3.add(Conv2D(512, kernel_size=3, activation='relu'))\n",
        "model_3.add(Conv2D(512, kernel_size=3, activation='relu'))\n",
        "model_3.add(Conv2D(256, kernel_size=3, activation='relu'))\n",
        "model_3.add(Conv2D(128, kernel_size=3, activation='relu'))\n",
        "model_3.add(Conv2D(64, kernel_size=3, activation='relu'))\n",
        "model_3.add(Conv2D(32, kernel_size=3, activation='relu'))\n",
        "\n",
        "model_3.add(Flatten())\n",
        "model_3.add(Dense(10, activation='softmax'))"
      ],
      "metadata": {
        "id": "WdwSiEYhEfRU"
      },
      "execution_count": null,
      "outputs": []
    },
    {
      "cell_type": "code",
      "source": [
        "optimizer = keras.optimizers.SGD(lr=.03)\n",
        "\n",
        "# compile model using accuracy to measure model performance\n",
        "model_3.compile(\n",
        "      optimizer=optimizer, \n",
        "      loss='categorical_crossentropy',\n",
        "      metrics=['accuracy'])\n",
        "\n",
        "model_3.summary()"
      ],
      "metadata": {
        "colab": {
          "base_uri": "https://localhost:8080/"
        },
        "id": "FtqhDQI_Ey9d",
        "outputId": "7b7a2dc4-ab3b-4fb5-8654-06e247f93ef1"
      },
      "execution_count": null,
      "outputs": [
        {
          "output_type": "stream",
          "name": "stdout",
          "text": [
            "Model: \"sequential_21\"\n",
            "_________________________________________________________________\n",
            " Layer (type)                Output Shape              Param #   \n",
            "=================================================================\n",
            " conv2d_210 (Conv2D)         (None, 26, 26, 32)        320       \n",
            "                                                                 \n",
            " conv2d_211 (Conv2D)         (None, 24, 24, 64)        18496     \n",
            "                                                                 \n",
            " conv2d_212 (Conv2D)         (None, 22, 22, 128)       73856     \n",
            "                                                                 \n",
            " conv2d_213 (Conv2D)         (None, 20, 20, 256)       295168    \n",
            "                                                                 \n",
            " conv2d_214 (Conv2D)         (None, 18, 18, 512)       1180160   \n",
            "                                                                 \n",
            " conv2d_215 (Conv2D)         (None, 16, 16, 512)       2359808   \n",
            "                                                                 \n",
            " conv2d_216 (Conv2D)         (None, 14, 14, 256)       1179904   \n",
            "                                                                 \n",
            " conv2d_217 (Conv2D)         (None, 12, 12, 128)       295040    \n",
            "                                                                 \n",
            " conv2d_218 (Conv2D)         (None, 10, 10, 64)        73792     \n",
            "                                                                 \n",
            " conv2d_219 (Conv2D)         (None, 8, 8, 32)          18464     \n",
            "                                                                 \n",
            " flatten_21 (Flatten)        (None, 2048)              0         \n",
            "                                                                 \n",
            " dense_21 (Dense)            (None, 10)                20490     \n",
            "                                                                 \n",
            "=================================================================\n",
            "Total params: 5,515,498\n",
            "Trainable params: 5,515,498\n",
            "Non-trainable params: 0\n",
            "_________________________________________________________________\n"
          ]
        }
      ]
    },
    {
      "cell_type": "code",
      "source": [
        "# fit model 3\n",
        "model_3.fit(\n",
        "    train_images, \n",
        "    train_labels, \n",
        "    batch_size = 16,\n",
        "    validation_data=(test_images, test_labels), epochs=3)"
      ],
      "metadata": {
        "colab": {
          "base_uri": "https://localhost:8080/"
        },
        "id": "W3ndLfcWI32O",
        "outputId": "765f2332-1ac6-4c83-ccc7-cc4063f72a2e"
      },
      "execution_count": null,
      "outputs": [
        {
          "output_type": "stream",
          "name": "stdout",
          "text": [
            "Epoch 1/3\n",
            "3750/3750 [==============================] - 93s 25ms/step - loss: 0.2896 - accuracy: 0.9074 - val_loss: 8.9418 - val_accuracy: 0.9731\n",
            "Epoch 2/3\n",
            "3750/3750 [==============================] - 91s 24ms/step - loss: 0.0675 - accuracy: 0.9792 - val_loss: 5.9725 - val_accuracy: 0.9796\n",
            "Epoch 3/3\n",
            "3750/3750 [==============================] - 91s 24ms/step - loss: 0.0480 - accuracy: 0.9854 - val_loss: 6.4989 - val_accuracy: 0.9817\n"
          ]
        },
        {
          "output_type": "execute_result",
          "data": {
            "text/plain": [
              "<keras.callbacks.History at 0x7f744759a710>"
            ]
          },
          "metadata": {},
          "execution_count": 68
        }
      ]
    },
    {
      "cell_type": "code",
      "source": [
        "# Evaluate\n",
        "score = model_3.evaluate(test_images, test_labels)\n",
        "print('Test loss:', score[0])\n",
        "print('Test accuracy:', score[1])"
      ],
      "metadata": {
        "colab": {
          "base_uri": "https://localhost:8080/"
        },
        "id": "fhPVvS64JFK0",
        "outputId": "8050edef-93eb-4eba-d004-32cc4612528f"
      },
      "execution_count": null,
      "outputs": [
        {
          "output_type": "stream",
          "name": "stdout",
          "text": [
            "313/313 [==============================] - 4s 13ms/step - loss: 7.0393 - accuracy: 0.9734\n",
            "Test loss: 7.039312362670898\n",
            "Test accuracy: 0.9733999967575073\n"
          ]
        }
      ]
    },
    {
      "cell_type": "markdown",
      "source": [
        "Model 3 Evaluation Notes:<br>\n",
        "Constant Parameters: loss = categorical cross entropy, epochs = 3<br>\n",
        "\n",
        "Initial optimizer comparison:<br>\n",
        "Adam, batch size = 64, alpha = .001(default):<br>\n",
        "trial 1 = 221s; training accuracy = 98.21%; test accuracy = 94.49%<br>\n",
        "trial 2 = 206s; training accuracy = 98.12%; test accuracy = 96.96%<br>\n",
        "trial 3 = 217s; training accuracy = 98.22%; test accuracy = 94.72%<br>\n",
        "SGD, batch size = 64, alpha = .01(default):<br>\n",
        "trial 1 = 209s; training accuracy = 97.00%; test accuracy = 96.64%<br>\n",
        "trial 2 = 210s; training accuracy = 96.45%; test accuracy = 96.48%<br>\n",
        "trial 3 = 211s; training accuracy = 96.74%; test accuracy = 95.95%<br><br>\n",
        "\n",
        "SGD Alpha Comparisons:<br>\n",
        "SGD, batch size = 64, alpha = .001:<br>\n",
        "trial 1 = 225s; training accuracy = 33.79%; test accuracy = 13.62%<br>\n",
        "SGD, batch size = 64, alpha = .1:<br>\n",
        "trial 1 = 207s; training accuracy = 9.87%; test accuracy = 9.80%<br>\n",
        "SGD, batch size = 64, alpha =.03:<br>\n",
        "trial 1 = 210s; training accuracy = 97.72%; test accuracy = 98.16%<br>\n",
        "trial 2 = 212s; training accuracy = 97.93%; test accuracy = 98.10%<br>\n",
        "trial 3 = 224s; training accuracy = 97.82%; test accuracy = 98.09%<br>\n",
        "SGD, batch size = 64, alpha = .05:<br>\n",
        "trial 1 = 208s; training accuracy = 98.00%; test accuracy = 97.90%<br>\n",
        "trial 2 = 212s; training accuracy = 97.62%; test accuracy = 97.97%<br>\n",
        "trial 3 = 210s; training accuracy = 98.15%; test accuracy = 98.25%<br><br>\n",
        "\n",
        "SGD batch size comparison:<br>\n",
        "SGD, batch size = 32, alpha = .03:<br>\n",
        "trial 1 = 231s; training accuracy = 98.29%; test accuracy = 98.21%<br>\n",
        "trial 2 = 231s; training accuracy = 98.00%; test accuracy = 98.16%<br>\n",
        "trial 3 = 230s; training accuracy = 98.13%; test accuracy = 98.59%<br>\n",
        "SGD, batch size = 16, alpha = .03:<br>\n",
        "trial 1 = 278s; training accuracy = 98.49%; test accuracy = 98.27%<br>\n",
        "trial 2 = 279s; training accuracy = 98.48%; test accuracy = 98.72%<br>\n",
        "trial 3 = 275s; training accuracy = 98.54%; test accuracy = 98.17%<br><br>\n",
        "\n",
        "Final:<br>\n",
        "SGD, batch size = 16, alpha = .03, loss = categorical cross entropy, epochs = 3<br>"
      ],
      "metadata": {
        "id": "3NW7lDT9blrh"
      }
    },
    {
      "cell_type": "code",
      "source": [
        "from keras.optimizers.optimizer_v2.adam import Adam\n",
        "# load cifar-10 dataset\n",
        "from keras.datasets import cifar10\n",
        "(x_cifar_train, y_cifar_train), (x_cifar_test, y_cifar_test) = cifar10.load_data()\n",
        "\n",
        "print(x_cifar_train.shape)\n",
        "print(x_cifar_test.shape)\n",
        "\n",
        "print(y_cifar_train.shape)\n",
        "print(y_cifar_test.shape)\n",
        "\n",
        "# reshape data\n",
        "x_cifar_train = x_cifar_train.reshape(50000,32,32,3)\n",
        "x_cifar_test = x_cifar_test.reshape(10000,32,32,3)\n",
        "\n",
        "# one-hot encode data\n",
        "y_cifar_train = to_categorical(y_cifar_train)\n",
        "y_cifar_test = to_categorical(y_cifar_test)\n",
        "\n",
        "# create LeNet model\n",
        "LeNet = Sequential()\n",
        "\n",
        "LeNet.add(Conv2D(6, kernel_size=5, activation='relu', input_shape=(32,32,3)))\n",
        "LeNet.add(MaxPooling2D(pool_size=(2, 2), strides=(2,2)))\n",
        "LeNet.add(Conv2D(16, kernel_size=5, activation='relu'))\n",
        "LeNet.add(MaxPooling2D(pool_size=(2, 2), strides=(2,2)))\n",
        "LeNet.add(Conv2D(120, kernel_size=5, activation='relu'))\n",
        "LeNet.add(Flatten())\n",
        "LeNet.add(Dense(84, activation='relu'))\n",
        "LeNet.add(Dense(10, activation='softmax'))\n",
        "\n",
        "# compile model using accuracy to measure model performance\n",
        "optimizer = keras.optimizers.Adam(lr=.0001)\n",
        "\n",
        "LeNet.compile(\n",
        "      optimizer=optimizer, \n",
        "      loss='categorical_crossentropy',\n",
        "      metrics=['accuracy'])\n",
        "\n",
        "LeNet.summary()"
      ],
      "metadata": {
        "colab": {
          "base_uri": "https://localhost:8080/"
        },
        "id": "IJoEl-4HLDne",
        "outputId": "c33f1b98-e198-4c53-ad27-5dbbda1c2a5e"
      },
      "execution_count": 89,
      "outputs": [
        {
          "output_type": "stream",
          "name": "stdout",
          "text": [
            "(50000, 32, 32, 3)\n",
            "(10000, 32, 32, 3)\n",
            "(50000, 1)\n",
            "(10000, 1)\n",
            "Model: \"sequential_33\"\n",
            "_________________________________________________________________\n",
            " Layer (type)                Output Shape              Param #   \n",
            "=================================================================\n",
            " conv2d_253 (Conv2D)         (None, 28, 28, 6)         456       \n",
            "                                                                 \n",
            " max_pooling2d_22 (MaxPoolin  (None, 14, 14, 6)        0         \n",
            " g2D)                                                            \n",
            "                                                                 \n",
            " conv2d_254 (Conv2D)         (None, 10, 10, 16)        2416      \n",
            "                                                                 \n",
            " max_pooling2d_23 (MaxPoolin  (None, 5, 5, 16)         0         \n",
            " g2D)                                                            \n",
            "                                                                 \n",
            " conv2d_255 (Conv2D)         (None, 1, 1, 120)         48120     \n",
            "                                                                 \n",
            " flatten_33 (Flatten)        (None, 120)               0         \n",
            "                                                                 \n",
            " dense_44 (Dense)            (None, 84)                10164     \n",
            "                                                                 \n",
            " dense_45 (Dense)            (None, 10)                850       \n",
            "                                                                 \n",
            "=================================================================\n",
            "Total params: 62,006\n",
            "Trainable params: 62,006\n",
            "Non-trainable params: 0\n",
            "_________________________________________________________________\n"
          ]
        }
      ]
    },
    {
      "cell_type": "code",
      "source": [
        "LeNet.fit(\n",
        "    x_cifar_train, \n",
        "    y_cifar_train, \n",
        "    batch_size = 256,\n",
        "    validation_data=(x_cifar_test, y_cifar_test), epochs=25)"
      ],
      "metadata": {
        "id": "7mwTg3NYVrnD",
        "colab": {
          "base_uri": "https://localhost:8080/"
        },
        "outputId": "94f55d1f-2bf2-4340-f456-43de6e204ac9"
      },
      "execution_count": 90,
      "outputs": [
        {
          "output_type": "stream",
          "name": "stdout",
          "text": [
            "Epoch 1/25\n",
            "196/196 [==============================] - 2s 8ms/step - loss: 3.7228 - accuracy: 0.1824 - val_loss: 2.3382 - val_accuracy: 0.2346\n",
            "Epoch 2/25\n",
            "196/196 [==============================] - 1s 6ms/step - loss: 2.1513 - accuracy: 0.2739 - val_loss: 1.9922 - val_accuracy: 0.3104\n",
            "Epoch 3/25\n",
            "196/196 [==============================] - 1s 6ms/step - loss: 1.9056 - accuracy: 0.3357 - val_loss: 1.8289 - val_accuracy: 0.3610\n",
            "Epoch 4/25\n",
            "196/196 [==============================] - 1s 6ms/step - loss: 1.7663 - accuracy: 0.3762 - val_loss: 1.7212 - val_accuracy: 0.3954\n",
            "Epoch 5/25\n",
            "196/196 [==============================] - 1s 6ms/step - loss: 1.6750 - accuracy: 0.4057 - val_loss: 1.6600 - val_accuracy: 0.4126\n",
            "Epoch 6/25\n",
            "196/196 [==============================] - 1s 6ms/step - loss: 1.6063 - accuracy: 0.4289 - val_loss: 1.6105 - val_accuracy: 0.4274\n",
            "Epoch 7/25\n",
            "196/196 [==============================] - 1s 6ms/step - loss: 1.5503 - accuracy: 0.4471 - val_loss: 1.5672 - val_accuracy: 0.4392\n",
            "Epoch 8/25\n",
            "196/196 [==============================] - 1s 6ms/step - loss: 1.5048 - accuracy: 0.4635 - val_loss: 1.5307 - val_accuracy: 0.4554\n",
            "Epoch 9/25\n",
            "196/196 [==============================] - 1s 6ms/step - loss: 1.4621 - accuracy: 0.4800 - val_loss: 1.4925 - val_accuracy: 0.4677\n",
            "Epoch 10/25\n",
            "196/196 [==============================] - 1s 6ms/step - loss: 1.4263 - accuracy: 0.4943 - val_loss: 1.4722 - val_accuracy: 0.4744\n",
            "Epoch 11/25\n",
            "196/196 [==============================] - 1s 6ms/step - loss: 1.3947 - accuracy: 0.5049 - val_loss: 1.4437 - val_accuracy: 0.4885\n",
            "Epoch 12/25\n",
            "196/196 [==============================] - 1s 6ms/step - loss: 1.3661 - accuracy: 0.5162 - val_loss: 1.4284 - val_accuracy: 0.4931\n",
            "Epoch 13/25\n",
            "196/196 [==============================] - 1s 6ms/step - loss: 1.3434 - accuracy: 0.5267 - val_loss: 1.4116 - val_accuracy: 0.4922\n",
            "Epoch 14/25\n",
            "196/196 [==============================] - 1s 6ms/step - loss: 1.3195 - accuracy: 0.5344 - val_loss: 1.3996 - val_accuracy: 0.5055\n",
            "Epoch 15/25\n",
            "196/196 [==============================] - 1s 6ms/step - loss: 1.2981 - accuracy: 0.5417 - val_loss: 1.3800 - val_accuracy: 0.5135\n",
            "Epoch 16/25\n",
            "196/196 [==============================] - 1s 6ms/step - loss: 1.2761 - accuracy: 0.5502 - val_loss: 1.3817 - val_accuracy: 0.5153\n",
            "Epoch 17/25\n",
            "196/196 [==============================] - 1s 6ms/step - loss: 1.2579 - accuracy: 0.5577 - val_loss: 1.3771 - val_accuracy: 0.5181\n",
            "Epoch 18/25\n",
            "196/196 [==============================] - 1s 6ms/step - loss: 1.2389 - accuracy: 0.5639 - val_loss: 1.3525 - val_accuracy: 0.5243\n",
            "Epoch 19/25\n",
            "196/196 [==============================] - 1s 6ms/step - loss: 1.2203 - accuracy: 0.5708 - val_loss: 1.3426 - val_accuracy: 0.5260\n",
            "Epoch 20/25\n",
            "196/196 [==============================] - 1s 6ms/step - loss: 1.2051 - accuracy: 0.5763 - val_loss: 1.3585 - val_accuracy: 0.5249\n",
            "Epoch 21/25\n",
            "196/196 [==============================] - 1s 6ms/step - loss: 1.1891 - accuracy: 0.5832 - val_loss: 1.3631 - val_accuracy: 0.5220\n",
            "Epoch 22/25\n",
            "196/196 [==============================] - 1s 6ms/step - loss: 1.1762 - accuracy: 0.5884 - val_loss: 1.3257 - val_accuracy: 0.5379\n",
            "Epoch 23/25\n",
            "196/196 [==============================] - 1s 6ms/step - loss: 1.1617 - accuracy: 0.5924 - val_loss: 1.3258 - val_accuracy: 0.5378\n",
            "Epoch 24/25\n",
            "196/196 [==============================] - 1s 6ms/step - loss: 1.1452 - accuracy: 0.5988 - val_loss: 1.3380 - val_accuracy: 0.5365\n",
            "Epoch 25/25\n",
            "196/196 [==============================] - 1s 6ms/step - loss: 1.1338 - accuracy: 0.6032 - val_loss: 1.3227 - val_accuracy: 0.5382\n"
          ]
        },
        {
          "output_type": "execute_result",
          "data": {
            "text/plain": [
              "<keras.callbacks.History at 0x7f743574a510>"
            ]
          },
          "metadata": {},
          "execution_count": 90
        }
      ]
    },
    {
      "cell_type": "code",
      "source": [
        "# Evaluate\n",
        "score = LeNet.evaluate(x_cifar_test, y_cifar_test)\n",
        "print('Test loss:', score[0])\n",
        "print('Test accuracy:', score[1])"
      ],
      "metadata": {
        "colab": {
          "base_uri": "https://localhost:8080/"
        },
        "id": "0Paqb6G_XiXj",
        "outputId": "5ded6118-c7d7-444f-8ece-833daaa26674"
      },
      "execution_count": null,
      "outputs": [
        {
          "output_type": "stream",
          "name": "stdout",
          "text": [
            "313/313 [==============================] - 1s 3ms/step - loss: 1.5756 - accuracy: 0.5650\n",
            "Test loss: 1.5756491422653198\n",
            "Test accuracy: 0.5649999976158142\n"
          ]
        }
      ]
    },
    {
      "cell_type": "markdown",
      "source": [
        "LeNet Notes:<br><br>\n",
        "\n",
        "learning rate testing (batch size = 64; epochs = 25; optimizer = adam):<br>\n",
        "learning rate = .001(default):<br>\n",
        "trial 1 = 102s; training accuracy = 77.50%; testing accuracy = 56.39%<br>\n",
        "learning rate = .0001:<br>\n",
        "trial 1 = 102s; training accuracy = 68.87%; testing accuracy = 56.70%<br>\n",
        "learning rate = .01:<br>\n",
        "trial 1 = 99s; training accuracy = 22.02%; testing accuracy = 18.47%<br>\n",
        "learning rate = .005:<br>\n",
        "trial 1 = 97s; training accuracy = 9.87%; testing accuracy = 10.00%<br><br>\n",
        "\n",
        "batch size test (learning rate = .001; epochs = 25; optimizer = adam):<br>\n",
        "Batch size 16:<br>\n",
        "trial 1 = 298s; training accuracy = 65.78%; testing accuracy = 53.33%<br>\n",
        "batch size 8:<br>\n",
        "trial 1 = 289s; training accuracy = 61.46% testing accuracy = 49.78%<br>\n",
        "batch size 128:<br>\n",
        "trial 1 = 52s; training accuracy = 76.14%; testing accuracy = 53.09%<br>\n",
        "trial 2 = 51s; training accuracy = 75.45%; testing accuracy = 54.67%<br>\n",
        "batch size 256:<br>\n",
        "trial 1 = 32s; training accuracy = 74.70%; testing accuracy = 53.83%<br>\n",
        "batch size 256, learning rate .0001:<br>\n",
        "trial 1 = 31s; training accuracy = 60.32%; testing accuracy = 53.82%<br>"
      ],
      "metadata": {
        "id": "XAPCi59-LD2o"
      }
    },
    {
      "cell_type": "code",
      "source": [
        "# create feed forward approximation of LeNet\n",
        "# assumption is that only the convolution layers are represented\n",
        "# per instruction, \"number of neurons = number of convolution filters\"\n",
        "\n",
        "feed_forward = keras.models.Sequential([\n",
        "    keras.layers.Flatten(input_shape=(50000, 32, 32, 3)),\n",
        "    keras.layers.Dense(6, activation='relu'),\n",
        "    keras.layers.Dense(16, activation='relu'),\n",
        "    keras.layers.Dense(120, activation='relu'),\n",
        "    keras.layers.Dense(10, activation='softmax')\n",
        "])\n",
        "\n",
        "# compile model using accuracy to measure model performance\n",
        "feed_forward.compile(\n",
        "      optimizer='adam', \n",
        "      loss='categorical_crossentropy',\n",
        "      metrics=['accuracy'])\n",
        "\n",
        "feed_forward.summary()"
      ],
      "metadata": {
        "id": "Pp2pArqWFs5p",
        "colab": {
          "base_uri": "https://localhost:8080/",
          "height": 380
        },
        "outputId": "99b72e56-f57c-46eb-8c67-f02e85ac7578"
      },
      "execution_count": 92,
      "outputs": [
        {
          "output_type": "error",
          "ename": "ResourceExhaustedError",
          "evalue": "ignored",
          "traceback": [
            "\u001b[0;31m---------------------------------------------------------------------------\u001b[0m",
            "\u001b[0;31mResourceExhaustedError\u001b[0m                    Traceback (most recent call last)",
            "\u001b[0;32m<ipython-input-92-b30a7664d6c6>\u001b[0m in \u001b[0;36m<module>\u001b[0;34m\u001b[0m\n\u001b[1;32m      8\u001b[0m     \u001b[0mkeras\u001b[0m\u001b[0;34m.\u001b[0m\u001b[0mlayers\u001b[0m\u001b[0;34m.\u001b[0m\u001b[0mDense\u001b[0m\u001b[0;34m(\u001b[0m\u001b[0;36m16\u001b[0m\u001b[0;34m,\u001b[0m \u001b[0mactivation\u001b[0m\u001b[0;34m=\u001b[0m\u001b[0;34m'relu'\u001b[0m\u001b[0;34m)\u001b[0m\u001b[0;34m,\u001b[0m\u001b[0;34m\u001b[0m\u001b[0;34m\u001b[0m\u001b[0m\n\u001b[1;32m      9\u001b[0m     \u001b[0mkeras\u001b[0m\u001b[0;34m.\u001b[0m\u001b[0mlayers\u001b[0m\u001b[0;34m.\u001b[0m\u001b[0mDense\u001b[0m\u001b[0;34m(\u001b[0m\u001b[0;36m120\u001b[0m\u001b[0;34m,\u001b[0m \u001b[0mactivation\u001b[0m\u001b[0;34m=\u001b[0m\u001b[0;34m'relu'\u001b[0m\u001b[0;34m)\u001b[0m\u001b[0;34m,\u001b[0m\u001b[0;34m\u001b[0m\u001b[0;34m\u001b[0m\u001b[0m\n\u001b[0;32m---> 10\u001b[0;31m     \u001b[0mkeras\u001b[0m\u001b[0;34m.\u001b[0m\u001b[0mlayers\u001b[0m\u001b[0;34m.\u001b[0m\u001b[0mDense\u001b[0m\u001b[0;34m(\u001b[0m\u001b[0;36m10\u001b[0m\u001b[0;34m,\u001b[0m \u001b[0mactivation\u001b[0m\u001b[0;34m=\u001b[0m\u001b[0;34m'softmax'\u001b[0m\u001b[0;34m)\u001b[0m\u001b[0;34m\u001b[0m\u001b[0;34m\u001b[0m\u001b[0m\n\u001b[0m\u001b[1;32m     11\u001b[0m ])\n\u001b[1;32m     12\u001b[0m \u001b[0;34m\u001b[0m\u001b[0m\n",
            "\u001b[0;32m/usr/local/lib/python3.7/dist-packages/tensorflow/python/training/tracking/base.py\u001b[0m in \u001b[0;36m_method_wrapper\u001b[0;34m(self, *args, **kwargs)\u001b[0m\n\u001b[1;32m    585\u001b[0m     \u001b[0mself\u001b[0m\u001b[0;34m.\u001b[0m\u001b[0m_self_setattr_tracking\u001b[0m \u001b[0;34m=\u001b[0m \u001b[0;32mFalse\u001b[0m  \u001b[0;31m# pylint: disable=protected-access\u001b[0m\u001b[0;34m\u001b[0m\u001b[0;34m\u001b[0m\u001b[0m\n\u001b[1;32m    586\u001b[0m     \u001b[0;32mtry\u001b[0m\u001b[0;34m:\u001b[0m\u001b[0;34m\u001b[0m\u001b[0;34m\u001b[0m\u001b[0m\n\u001b[0;32m--> 587\u001b[0;31m       \u001b[0mresult\u001b[0m \u001b[0;34m=\u001b[0m \u001b[0mmethod\u001b[0m\u001b[0;34m(\u001b[0m\u001b[0mself\u001b[0m\u001b[0;34m,\u001b[0m \u001b[0;34m*\u001b[0m\u001b[0margs\u001b[0m\u001b[0;34m,\u001b[0m \u001b[0;34m**\u001b[0m\u001b[0mkwargs\u001b[0m\u001b[0;34m)\u001b[0m\u001b[0;34m\u001b[0m\u001b[0;34m\u001b[0m\u001b[0m\n\u001b[0m\u001b[1;32m    588\u001b[0m     \u001b[0;32mfinally\u001b[0m\u001b[0;34m:\u001b[0m\u001b[0;34m\u001b[0m\u001b[0;34m\u001b[0m\u001b[0m\n\u001b[1;32m    589\u001b[0m       \u001b[0mself\u001b[0m\u001b[0;34m.\u001b[0m\u001b[0m_self_setattr_tracking\u001b[0m \u001b[0;34m=\u001b[0m \u001b[0mprevious_value\u001b[0m  \u001b[0;31m# pylint: disable=protected-access\u001b[0m\u001b[0;34m\u001b[0m\u001b[0;34m\u001b[0m\u001b[0m\n",
            "\u001b[0;32m/usr/local/lib/python3.7/dist-packages/keras/utils/traceback_utils.py\u001b[0m in \u001b[0;36merror_handler\u001b[0;34m(*args, **kwargs)\u001b[0m\n\u001b[1;32m     65\u001b[0m     \u001b[0;32mexcept\u001b[0m \u001b[0mException\u001b[0m \u001b[0;32mas\u001b[0m \u001b[0me\u001b[0m\u001b[0;34m:\u001b[0m  \u001b[0;31m# pylint: disable=broad-except\u001b[0m\u001b[0;34m\u001b[0m\u001b[0;34m\u001b[0m\u001b[0m\n\u001b[1;32m     66\u001b[0m       \u001b[0mfiltered_tb\u001b[0m \u001b[0;34m=\u001b[0m \u001b[0m_process_traceback_frames\u001b[0m\u001b[0;34m(\u001b[0m\u001b[0me\u001b[0m\u001b[0;34m.\u001b[0m\u001b[0m__traceback__\u001b[0m\u001b[0;34m)\u001b[0m\u001b[0;34m\u001b[0m\u001b[0;34m\u001b[0m\u001b[0m\n\u001b[0;32m---> 67\u001b[0;31m       \u001b[0;32mraise\u001b[0m \u001b[0me\u001b[0m\u001b[0;34m.\u001b[0m\u001b[0mwith_traceback\u001b[0m\u001b[0;34m(\u001b[0m\u001b[0mfiltered_tb\u001b[0m\u001b[0;34m)\u001b[0m \u001b[0;32mfrom\u001b[0m \u001b[0;32mNone\u001b[0m\u001b[0;34m\u001b[0m\u001b[0;34m\u001b[0m\u001b[0m\n\u001b[0m\u001b[1;32m     68\u001b[0m     \u001b[0;32mfinally\u001b[0m\u001b[0;34m:\u001b[0m\u001b[0;34m\u001b[0m\u001b[0;34m\u001b[0m\u001b[0m\n\u001b[1;32m     69\u001b[0m       \u001b[0;32mdel\u001b[0m \u001b[0mfiltered_tb\u001b[0m\u001b[0;34m\u001b[0m\u001b[0;34m\u001b[0m\u001b[0m\n",
            "\u001b[0;32m/usr/local/lib/python3.7/dist-packages/keras/backend.py\u001b[0m in \u001b[0;36mrandom_uniform\u001b[0;34m(self, shape, minval, maxval, dtype)\u001b[0m\n\u001b[1;32m   1920\u001b[0m     return tf.random.uniform(\n\u001b[1;32m   1921\u001b[0m         \u001b[0mshape\u001b[0m\u001b[0;34m=\u001b[0m\u001b[0mshape\u001b[0m\u001b[0;34m,\u001b[0m \u001b[0mminval\u001b[0m\u001b[0;34m=\u001b[0m\u001b[0mminval\u001b[0m\u001b[0;34m,\u001b[0m \u001b[0mmaxval\u001b[0m\u001b[0;34m=\u001b[0m\u001b[0mmaxval\u001b[0m\u001b[0;34m,\u001b[0m \u001b[0mdtype\u001b[0m\u001b[0;34m=\u001b[0m\u001b[0mdtype\u001b[0m\u001b[0;34m,\u001b[0m\u001b[0;34m\u001b[0m\u001b[0;34m\u001b[0m\u001b[0m\n\u001b[0;32m-> 1922\u001b[0;31m         seed=self.make_legacy_seed())\n\u001b[0m\u001b[1;32m   1923\u001b[0m \u001b[0;34m\u001b[0m\u001b[0m\n\u001b[1;32m   1924\u001b[0m   \u001b[0;32mdef\u001b[0m \u001b[0mtruncated_normal\u001b[0m\u001b[0;34m(\u001b[0m\u001b[0mself\u001b[0m\u001b[0;34m,\u001b[0m \u001b[0mshape\u001b[0m\u001b[0;34m,\u001b[0m \u001b[0mmean\u001b[0m\u001b[0;34m=\u001b[0m\u001b[0;36m0.\u001b[0m\u001b[0;34m,\u001b[0m \u001b[0mstddev\u001b[0m\u001b[0;34m=\u001b[0m\u001b[0;36m1.\u001b[0m\u001b[0;34m,\u001b[0m \u001b[0mdtype\u001b[0m\u001b[0;34m=\u001b[0m\u001b[0;32mNone\u001b[0m\u001b[0;34m)\u001b[0m\u001b[0;34m:\u001b[0m\u001b[0;34m\u001b[0m\u001b[0;34m\u001b[0m\u001b[0m\n",
            "\u001b[0;31mResourceExhaustedError\u001b[0m: OOM when allocating tensor with shape[153600000,6] and type float on /job:localhost/replica:0/task:0/device:GPU:0 by allocator GPU_0_bfc [Op:RandomUniform]"
          ]
        }
      ]
    },
    {
      "cell_type": "code",
      "source": [
        "feed_forward.fit(\n",
        "    x_cifar_train, \n",
        "    y_cifar_train, \n",
        "    batch_size = 64,\n",
        "    validation_data=(x_cifar_test, y_cifar_test), epochs=25)"
      ],
      "metadata": {
        "id": "9ndNiMP-Ismc"
      },
      "execution_count": null,
      "outputs": []
    },
    {
      "cell_type": "code",
      "source": [
        "# Evaluate\n",
        "score = feed_forward.evaluate(x_cifar_test, y_cifar_test)\n",
        "print('Test loss:', score[0])\n",
        "print('Test accuracy:', score[1])"
      ],
      "metadata": {
        "id": "CKPLFXs9Jj20"
      },
      "execution_count": null,
      "outputs": []
    }
  ]
}